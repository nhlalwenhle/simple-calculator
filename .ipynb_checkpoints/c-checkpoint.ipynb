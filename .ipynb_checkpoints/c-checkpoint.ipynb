{
 "cells": [
  {
   "cell_type": "code",
   "execution_count": 25,
   "metadata": {},
   "outputs": [],
   "source": [
    "class Calculator:\n",
    "    def add(self, x, y):\n",
    "        \"\"\"Addition Function.\"\"\"\n",
    "        number_types = (int, long, float, complex)\n",
    "\n",
    "        if isinstance(x, number_types) and isinstance(y, number_types):\n",
    "            return x + y\n",
    "        else:\n",
    "            raise ValueError         \n",
    "    def multiply(self, x, y):\n",
    "        \"\"\" Multiplication Function.\"\"\"\n",
    "        number_types = (int, long, float, complex)\n",
    "        \n",
    "        if isinstance(x, number_types) and isinstance(y, number_types):\n",
    "            return x * y\n",
    "        else:\n",
    "            raise ValueError        "
   ]
  },
  {
   "cell_type": "code",
   "execution_count": null,
   "metadata": {},
   "outputs": [],
   "source": []
  }
 ],
 "metadata": {
  "kernelspec": {
   "display_name": "Python 3",
   "language": "python",
   "name": "python3"
  },
  "language_info": {
   "codemirror_mode": {
    "name": "ipython",
    "version": 3
   },
   "file_extension": ".py",
   "mimetype": "text/x-python",
   "name": "python",
   "nbconvert_exporter": "python",
   "pygments_lexer": "ipython3",
   "version": "3.7.3"
  }
 },
 "nbformat": 4,
 "nbformat_minor": 2
}
