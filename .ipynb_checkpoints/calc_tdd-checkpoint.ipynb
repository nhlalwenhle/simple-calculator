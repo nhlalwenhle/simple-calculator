{
 "cells": [
  {
   "cell_type": "code",
   "execution_count": 8,
   "metadata": {},
   "outputs": [],
   "source": [
    "import re"
   ]
  },
  {
   "cell_type": "code",
   "execution_count": 9,
   "metadata": {},
   "outputs": [],
   "source": [
    "number_types = (int, float, complex)\n",
    "\n",
    "\n",
    "class calculator():\n",
    "\n",
    "    @staticmethod\n",
    "    def validate_args(x, y):\n",
    "        if not isinstance(x, number_types) and not isinstance(y, number_types):\n",
    "            raise ValueError\n",
    "\n",
    "    def add(self, x, y):\n",
    "        self.validate_args(x, y)\n",
    "        return x + y\n",
    "\n",
    "    def multiply(self, x, y):\n",
    "        self.validate_args(x, y)\n",
    "        return x*y\n",
    "\n",
    "    def sub(self, x, y):\n",
    "        self.validate_args(x, y)\n",
    "        return x-y\n",
    "\n",
    "    def div(self, x, y):\n",
    "        self.validate_args(x, y)\n",
    "        return x/y"
   ]
  },
  {
   "cell_type": "code",
   "execution_count": null,
   "metadata": {},
   "outputs": [],
   "source": []
  },
  {
   "cell_type": "code",
   "execution_count": null,
   "metadata": {},
   "outputs": [],
   "source": []
  }
 ],
 "metadata": {
  "kernelspec": {
   "display_name": "Python 3",
   "language": "python",
   "name": "python3"
  },
  "language_info": {
   "codemirror_mode": {
    "name": "ipython",
    "version": 3
   },
   "file_extension": ".py",
   "mimetype": "text/x-python",
   "name": "python",
   "nbconvert_exporter": "python",
   "pygments_lexer": "ipython3",
   "version": "3.7.3"
  }
 },
 "nbformat": 4,
 "nbformat_minor": 2
}
