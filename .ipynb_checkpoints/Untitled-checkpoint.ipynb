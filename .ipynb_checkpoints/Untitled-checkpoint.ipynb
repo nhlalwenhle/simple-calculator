{
 "cells": [
  {
   "cell_type": "code",
   "execution_count": 1,
   "metadata": {},
   "outputs": [],
   "source": [
    "import unittest\n",
    "from tdd_calculator import*\n",
    "import import_ipynb "
   ]
  },
  {
   "cell_type": "code",
   "execution_count": 6,
   "metadata": {},
   "outputs": [
    {
     "name": "stderr",
     "output_type": "stream",
     "text": [
      "EEE\n",
      "======================================================================\n",
      "ERROR: test_add_method (__main__.calc)\n",
      "----------------------------------------------------------------------\n",
      "Traceback (most recent call last):\n",
      "  File \"<ipython-input-6-f52c15282a7c>\", line 4, in setUp\n",
      "    self.calculator = Calculator.Calculator()\n",
      "AttributeError: type object 'Calculator' has no attribute 'Calculator'\n",
      "\n",
      "======================================================================\n",
      "ERROR: test_add_method_invalid_value (__main__.calc)\n",
      "----------------------------------------------------------------------\n",
      "Traceback (most recent call last):\n",
      "  File \"<ipython-input-6-f52c15282a7c>\", line 4, in setUp\n",
      "    self.calculator = Calculator.Calculator()\n",
      "AttributeError: type object 'Calculator' has no attribute 'Calculator'\n",
      "\n",
      "======================================================================\n",
      "ERROR: test_multiply_method (__main__.calc)\n",
      "----------------------------------------------------------------------\n",
      "Traceback (most recent call last):\n",
      "  File \"<ipython-input-6-f52c15282a7c>\", line 4, in setUp\n",
      "    self.calculator = Calculator.Calculator()\n",
      "AttributeError: type object 'Calculator' has no attribute 'Calculator'\n",
      "\n",
      "----------------------------------------------------------------------\n",
      "Ran 3 tests in 0.008s\n",
      "\n",
      "FAILED (errors=3)\n"
     ]
    }
   ],
   "source": [
    "class calc(unittest.TestCase):\n",
    "    \n",
    "    def setUp(self):\n",
    "        self.calculator = calculator.calculator()\n",
    "\n",
    "    def test_add_method(self):\n",
    "        result = self.calculator.add(4, 2)\n",
    "        self.assertEqual(6, result)\n",
    "\n",
    "    def test_add_method_invalid_value(self):\n",
    "        self.assertRaises(ValueError, self.calculator.add, \"four\", \"five\")\n",
    "\n",
    "    def test_multiply_method(self):\n",
    "        result = self.calculator.multiply(5, 3)\n",
    "        self.assertEqual(15, result)\n",
    "\n",
    "if __name__ == '__main__':\n",
    "    unittest.main(argv=['first-arg-is-ignored'], exit=False)"
   ]
  },
  {
   "cell_type": "code",
   "execution_count": null,
   "metadata": {},
   "outputs": [],
   "source": []
  }
 ],
 "metadata": {
  "kernelspec": {
   "display_name": "Python 3",
   "language": "python",
   "name": "python3"
  },
  "language_info": {
   "codemirror_mode": {
    "name": "ipython",
    "version": 3
   },
   "file_extension": ".py",
   "mimetype": "text/x-python",
   "name": "python",
   "nbconvert_exporter": "python",
   "pygments_lexer": "ipython3",
   "version": "3.7.3"
  }
 },
 "nbformat": 4,
 "nbformat_minor": 2
}
